{
  "metadata": {
    "language_info": {
      "codemirror_mode": {
        "name": "python",
        "version": 3
      },
      "file_extension": ".py",
      "mimetype": "text/x-python",
      "name": "python",
      "nbconvert_exporter": "python",
      "pygments_lexer": "ipython3",
      "version": "3.8"
    },
    "kernelspec": {
      "name": "python",
      "display_name": "Python (Pyodide)",
      "language": "python"
    }
  },
  "nbformat_minor": 4,
  "nbformat": 4,
  "cells": [
    {
      "cell_type": "code",
      "source": "import pandas as pd\nimport numpy as np",
      "metadata": {
        "trusted": true
      },
      "execution_count": 39,
      "outputs": []
    },
    {
      "cell_type": "code",
      "source": "data = pd.read_csv('lab1.csv')\n",
      "metadata": {
        "trusted": true
      },
      "execution_count": 40,
      "outputs": []
    },
    {
      "cell_type": "code",
      "source": "data\n",
      "metadata": {
        "trusted": true
      },
      "execution_count": 41,
      "outputs": [
        {
          "execution_count": 41,
          "output_type": "execute_result",
          "data": {
            "text/plain": "     sky air temp humidity    wind water forecast enjoy sport\n0  sunny     warm   normal  strong  warm     same         yes\n1  sunny     warm     high  strong  warm     same         yes\n2  rainy     cold     high  strong  warm   change          no\n3  sunny     warm     high  strong  cool   change         yes",
            "text/html": "<div>\n<style scoped>\n    .dataframe tbody tr th:only-of-type {\n        vertical-align: middle;\n    }\n\n    .dataframe tbody tr th {\n        vertical-align: top;\n    }\n\n    .dataframe thead th {\n        text-align: right;\n    }\n</style>\n<table border=\"1\" class=\"dataframe\">\n  <thead>\n    <tr style=\"text-align: right;\">\n      <th></th>\n      <th>sky</th>\n      <th>air temp</th>\n      <th>humidity</th>\n      <th>wind</th>\n      <th>water</th>\n      <th>forecast</th>\n      <th>enjoy sport</th>\n    </tr>\n  </thead>\n  <tbody>\n    <tr>\n      <th>0</th>\n      <td>sunny</td>\n      <td>warm</td>\n      <td>normal</td>\n      <td>strong</td>\n      <td>warm</td>\n      <td>same</td>\n      <td>yes</td>\n    </tr>\n    <tr>\n      <th>1</th>\n      <td>sunny</td>\n      <td>warm</td>\n      <td>high</td>\n      <td>strong</td>\n      <td>warm</td>\n      <td>same</td>\n      <td>yes</td>\n    </tr>\n    <tr>\n      <th>2</th>\n      <td>rainy</td>\n      <td>cold</td>\n      <td>high</td>\n      <td>strong</td>\n      <td>warm</td>\n      <td>change</td>\n      <td>no</td>\n    </tr>\n    <tr>\n      <th>3</th>\n      <td>sunny</td>\n      <td>warm</td>\n      <td>high</td>\n      <td>strong</td>\n      <td>cool</td>\n      <td>change</td>\n      <td>yes</td>\n    </tr>\n  </tbody>\n</table>\n</div>"
          },
          "metadata": {}
        }
      ]
    },
    {
      "cell_type": "code",
      "source": "concepts = np.array(data)[:,:-1]",
      "metadata": {
        "trusted": true
      },
      "execution_count": 42,
      "outputs": []
    },
    {
      "cell_type": "code",
      "source": "concepts",
      "metadata": {
        "trusted": true
      },
      "execution_count": 43,
      "outputs": [
        {
          "execution_count": 43,
          "output_type": "execute_result",
          "data": {
            "text/plain": "array([['sunny', 'warm', 'normal', 'strong', 'warm', 'same'],\n       ['sunny', 'warm', 'high', 'strong', 'warm', 'same'],\n       ['rainy', 'cold', 'high', 'strong', 'warm', 'change'],\n       ['sunny', 'warm', 'high', 'strong', 'cool', 'change']],\n      dtype=object)"
          },
          "metadata": {}
        }
      ]
    },
    {
      "cell_type": "code",
      "source": "target = np.array(data)[:,-1]",
      "metadata": {
        "trusted": true
      },
      "execution_count": 44,
      "outputs": []
    },
    {
      "cell_type": "code",
      "source": "target",
      "metadata": {
        "trusted": true
      },
      "execution_count": 45,
      "outputs": [
        {
          "execution_count": 45,
          "output_type": "execute_result",
          "data": {
            "text/plain": "array(['yes', 'yes', 'no', 'yes'], dtype=object)"
          },
          "metadata": {}
        }
      ]
    },
    {
      "cell_type": "code",
      "source": "def train(con,tar):\n    for i,val in enumerate(tar):\n        if val=='yes':\n            specific_h = con[i].copy()\n            break\n            \n    for i,val in enumerate(con):\n        if tar[i]=='yes':\n             for x in range(len(specific_h)):\n                    if val[x] != specific_h[x]:\n                         specific_h[x] = '?'\n                    else:\n                          pass\n    return specific_h ",
      "metadata": {
        "trusted": true
      },
      "execution_count": 46,
      "outputs": []
    },
    {
      "cell_type": "code",
      "source": "print(train(concepts,target))",
      "metadata": {
        "trusted": true
      },
      "execution_count": 47,
      "outputs": [
        {
          "name": "stdout",
          "text": "['sunny' 'warm' '?' 'strong' '?' '?']\n",
          "output_type": "stream"
        }
      ]
    }
  ]
}
