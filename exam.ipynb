{
  "metadata": {
    "language_info": {
      "codemirror_mode": {
        "name": "python",
        "version": 3
      },
      "file_extension": ".py",
      "mimetype": "text/x-python",
      "name": "python",
      "nbconvert_exporter": "python",
      "pygments_lexer": "ipython3",
      "version": "3.8"
    },
    "kernelspec": {
      "name": "python",
      "display_name": "Python (Pyodide)",
      "language": "python"
    }
  },
  "nbformat_minor": 4,
  "nbformat": 4,
  "cells": [
    {
      "cell_type": "code",
      "source": "import pandas as pd\nimport numpy as np",
      "metadata": {
        "trusted": true
      },
      "execution_count": 1,
      "outputs": []
    },
    {
      "cell_type": "code",
      "source": "data = pd.read_csv('exam.csv')",
      "metadata": {
        "trusted": true
      },
      "execution_count": 5,
      "outputs": []
    },
    {
      "cell_type": "code",
      "source": "data",
      "metadata": {
        "trusted": true
      },
      "execution_count": 6,
      "outputs": [
        {
          "execution_count": 6,
          "output_type": "execute_result",
          "data": {
            "text/plain": "  citation    size inlibrary       price editions  buy\n0     some   small        no  affordable     many   no\n1     many     big        no   expensive      one  yes\n2     some     big    always    expensie      few   no\n3     many  medium        no   expensive     many  yes\n4     many   samll        no  affordable     many  yes",
            "text/html": "<div>\n<style scoped>\n    .dataframe tbody tr th:only-of-type {\n        vertical-align: middle;\n    }\n\n    .dataframe tbody tr th {\n        vertical-align: top;\n    }\n\n    .dataframe thead th {\n        text-align: right;\n    }\n</style>\n<table border=\"1\" class=\"dataframe\">\n  <thead>\n    <tr style=\"text-align: right;\">\n      <th></th>\n      <th>citation</th>\n      <th>size</th>\n      <th>inlibrary</th>\n      <th>price</th>\n      <th>editions</th>\n      <th>buy</th>\n    </tr>\n  </thead>\n  <tbody>\n    <tr>\n      <th>0</th>\n      <td>some</td>\n      <td>small</td>\n      <td>no</td>\n      <td>affordable</td>\n      <td>many</td>\n      <td>no</td>\n    </tr>\n    <tr>\n      <th>1</th>\n      <td>many</td>\n      <td>big</td>\n      <td>no</td>\n      <td>expensive</td>\n      <td>one</td>\n      <td>yes</td>\n    </tr>\n    <tr>\n      <th>2</th>\n      <td>some</td>\n      <td>big</td>\n      <td>always</td>\n      <td>expensie</td>\n      <td>few</td>\n      <td>no</td>\n    </tr>\n    <tr>\n      <th>3</th>\n      <td>many</td>\n      <td>medium</td>\n      <td>no</td>\n      <td>expensive</td>\n      <td>many</td>\n      <td>yes</td>\n    </tr>\n    <tr>\n      <th>4</th>\n      <td>many</td>\n      <td>samll</td>\n      <td>no</td>\n      <td>affordable</td>\n      <td>many</td>\n      <td>yes</td>\n    </tr>\n  </tbody>\n</table>\n</div>"
          },
          "metadata": {}
        }
      ]
    },
    {
      "cell_type": "code",
      "source": "concepts = np.array(data)[:,:-1]",
      "metadata": {
        "trusted": true
      },
      "execution_count": 7,
      "outputs": []
    },
    {
      "cell_type": "code",
      "source": "concepts",
      "metadata": {
        "trusted": true
      },
      "execution_count": 8,
      "outputs": [
        {
          "execution_count": 8,
          "output_type": "execute_result",
          "data": {
            "text/plain": "array([['some', 'small', 'no', 'affordable', 'many'],\n       ['many', 'big', 'no', 'expensive', 'one'],\n       ['some', 'big', 'always', 'expensie', 'few'],\n       ['many', 'medium', 'no', 'expensive', 'many'],\n       ['many', 'samll', 'no', 'affordable', 'many']], dtype=object)"
          },
          "metadata": {}
        }
      ]
    },
    {
      "cell_type": "code",
      "source": "target = np.array(data)[:,-1]",
      "metadata": {
        "trusted": true
      },
      "execution_count": 9,
      "outputs": []
    },
    {
      "cell_type": "code",
      "source": "target",
      "metadata": {
        "trusted": true
      },
      "execution_count": 10,
      "outputs": [
        {
          "execution_count": 10,
          "output_type": "execute_result",
          "data": {
            "text/plain": "array(['no', 'yes', 'no', 'yes', 'yes'], dtype=object)"
          },
          "metadata": {}
        }
      ]
    },
    {
      "cell_type": "code",
      "source": "def train(con,tar):\n    for i,val in enumerate(tar):\n        if val=='yes':\n            specific_h = con[i].copy()\n            break\n            \n    for i,val in enumerate(con):\n        if tar[i]=='yes':\n             for x in range(len(specific_h)):\n                    if val[x] != specific_h[x]:\n                         specific_h[x] = '?'\n                    else:\n                          pass\n    return specific_h ",
      "metadata": {
        "trusted": true
      },
      "execution_count": 11,
      "outputs": []
    },
    {
      "cell_type": "code",
      "source": "print(train(concepts,target))",
      "metadata": {
        "trusted": true
      },
      "execution_count": 12,
      "outputs": [
        {
          "name": "stdout",
          "text": "['many' '?' 'no' '?' '?']\n",
          "output_type": "stream"
        }
      ]
    },
    {
      "cell_type": "code",
      "source": "",
      "metadata": {},
      "execution_count": null,
      "outputs": []
    }
  ]
}
